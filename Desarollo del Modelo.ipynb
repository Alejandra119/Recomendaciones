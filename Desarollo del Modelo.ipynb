{
 "cells": [
  {
   "cell_type": "markdown",
   "metadata": {},
   "source": [
    "# Desarrollo del Proyecto 1 - Recomendación de películas\n",
    "Hecho por: Alejandra Salas"
   ]
  },
  {
   "cell_type": "markdown",
   "metadata": {},
   "source": [
    "### Modelo de Predicción_Sistema de recomendación"
   ]
  },
  {
   "cell_type": "markdown",
   "metadata": {},
   "source": [
    "## 1. Extraer los datos"
   ]
  },
  {
   "cell_type": "code",
   "execution_count": 1,
   "metadata": {},
   "outputs": [],
   "source": [
    "# Se importan las librerías a usar.\n",
    "import numpy as np\n",
    "import pandas as pd"
   ]
  },
  {
   "cell_type": "code",
   "execution_count": 2,
   "metadata": {},
   "outputs": [],
   "source": [
    "datos=pd.read_csv('datos_main.csv')"
   ]
  },
  {
   "cell_type": "code",
   "execution_count": 3,
   "metadata": {},
   "outputs": [],
   "source": [
    "# Importamos las bibliotecas a utilizar en el modelo\n",
    "from sklearn.feature_extraction.text import CountVectorizer\n",
    "from sklearn.neighbors import NearestNeighbors"
   ]
  },
  {
   "cell_type": "code",
   "execution_count": 5,
   "metadata": {},
   "outputs": [],
   "source": [
    "# Convertimos los datos en tipo str.\n",
    "datos['title'] = datos['title'].fillna('').astype('str')\n",
    "datos['genres'] = datos['genres'].fillna('').astype('str')\n",
    "datos['companies'] = datos['companies'].fillna('')\n",
    "datos['companies'] = datos['companies'].fillna('').astype('str')"
   ]
  },
  {
   "cell_type": "code",
   "execution_count": 9,
   "metadata": {},
   "outputs": [],
   "source": [
    "# Creamos una nueva columna combinando las características de interés\n",
    "datos['caracteristicas_comunes'] = datos['title'] + ' ' + datos['genres'] + ' ' + datos['companies']\n",
    "\n",
    "# Convertimos todos los textos a minusculas para evitar duplicados\n",
    "datos['caracteristicas_comunes'] = datos['caracteristicas_comunes'].str.lower()\n",
    "\n",
    "#   Creamos una matriz de conteo usando CountVectorizer que convierte los textos en una matriz de frecuencias de palabras.\n",
    "contar = CountVectorizer(stop_words='english', max_features=5000)\n",
    "count_matrix = contar.fit_transform(datos['caracteristicas_comunes'])\n",
    "\n",
    "# Creamos un modelo para encontrar los vecinos mas cercanos en un espacio de caracteristicas\n",
    "modelo_k = NearestNeighbors(metric='cosine', algorithm='brute')\n",
    "modelo_k.fit(count_matrix)\n",
    "\n",
    "# Creamos un indice de titulos de peliculas y eliminamos los duplicados\n",
    "indices = pd.Series(datos.index, index=datos['title']).drop_duplicates()"
   ]
  },
  {
   "cell_type": "code",
   "execution_count": 35,
   "metadata": {},
   "outputs": [],
   "source": [
    "# Definimos la función.\n",
    "def recomendacion(titulo):\n",
    "    if titulo not in datos['title'].values:\n",
    "        return 'La pelicula no se encuentra en el conjunto de la base de datos.'\n",
    "    else:\n",
    "        index = indices[titulo]\n",
    "\n",
    "        distances, indices_knn = modelo_k.kneighbors(count_matrix[index], n_neighbors=6)  \n",
    "\n",
    "        movie_indices = indices_knn[0][1:]  \n",
    "\n",
    "        return {'lista recomendada': datos['title'].iloc[movie_indices].tolist()}\n"
   ]
  },
  {
   "cell_type": "code",
   "execution_count": 36,
   "metadata": {},
   "outputs": [
    {
     "name": "stdout",
     "output_type": "stream",
     "text": [
      "{'lista recomendada': ['Toy Story 2', 'Toy Story 3', 'Toy Story 3', 'Toy Story of Terror!', 'Toy Story That Time Forgot']}\n"
     ]
    }
   ],
   "source": [
    "print(recomendacion(\"Toy Story\"))"
   ]
  }
 ],
 "metadata": {
  "kernelspec": {
   "display_name": "Python 3",
   "language": "python",
   "name": "python3"
  },
  "language_info": {
   "codemirror_mode": {
    "name": "ipython",
    "version": 3
   },
   "file_extension": ".py",
   "mimetype": "text/x-python",
   "name": "python",
   "nbconvert_exporter": "python",
   "pygments_lexer": "ipython3",
   "version": "3.10.11"
  },
  "orig_nbformat": 4
 },
 "nbformat": 4,
 "nbformat_minor": 2
}
